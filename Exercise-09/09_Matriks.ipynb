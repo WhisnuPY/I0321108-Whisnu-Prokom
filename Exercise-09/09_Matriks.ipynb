{
 "cells": [
  {
   "cell_type": "markdown",
   "metadata": {},
   "source": [
    "# Exercise 09  \n",
    "### OPERASI MATRIKS  \n",
    "Silahkan lengkapi kode yang rumpang sesuai perintah yang diberikan.\n"
   ]
  },
  {
   "cell_type": "markdown",
   "metadata": {},
   "source": [
    "![](./image/1.png)"
   ]
  },
  {
   "cell_type": "code",
   "execution_count": 87,
   "metadata": {},
   "outputs": [],
   "source": [
    "A = [[112,112],\n",
    "     [112,112]]\n",
    "\n",
    "B = [[104, 104],\n",
    "     [104, 104]]\n"
   ]
  },
  {
   "cell_type": "markdown",
   "metadata": {},
   "source": [
    "Buatlah matriks menggunakan metode perulangan for dengan ketentuan sebagai berikut:\n",
    "* Matriks A berisi angka sebesar 4 setelah nim kalian. (ex: nim = 12, nilai matriks [16, 16],[16,16])\n",
    "* Matriks B berisi angka sebesar 4 sebelum nim kalian. (ex: nim = 12, nilai matriks [8, 8],[8,8])\n"
   ]
  },
  {
   "cell_type": "code",
   "execution_count": 88,
   "metadata": {},
   "outputs": [
    {
     "name": "stdout",
     "output_type": "stream",
     "text": [
      "[[112, 112], [112, 112]]\n",
      "[[104, 104], [104, 104]]\n",
      "\n",
      "[[112, 112], [112, 112]]\n",
      "[[104, 104], [104, 104]]\n"
     ]
    }
   ],
   "source": [
    "def create(matriks, nim):\n",
    "    for i in range (len(matriks)):\n",
    "        for k in range (len(matriks)):\n",
    "            matriks[i][k] = nim\n",
    "    print(matriks)\n",
    "\n",
    "create(A, 112)\n",
    "create(B, 104)\n",
    "\n",
    "print()\n",
    "print(A)\n",
    "print(B)"
   ]
  },
  {
   "cell_type": "markdown",
   "metadata": {},
   "source": [
    "## KERJAKAN SOAL BERIKUT\n",
    "1. Buatlah program penjumlahan matriks A dan B.\n",
    "2. Buatlah program pengurangan matriks A dan B.\n",
    "3. Buatlah program perkalian matriks A dan B."
   ]
  },
  {
   "cell_type": "code",
   "execution_count": 89,
   "metadata": {},
   "outputs": [
    {
     "name": "stdout",
     "output_type": "stream",
     "text": [
      "216 216 \n",
      "216 216 \n"
     ]
    }
   ],
   "source": [
    "#SOAL-1\n",
    "#YOUR CODE HERE\n",
    "def Penjumlahan(awal, akhir):\n",
    "    for i in range (len(awal)):\n",
    "        for n in range (len(awal)):\n",
    "            print(awal[i][n]+akhir[i][n], end=\" \") \n",
    "        print()\n",
    "    \n",
    "    \n",
    "\n",
    "Penjumlahan(A, B)\n"
   ]
  },
  {
   "cell_type": "code",
   "execution_count": 90,
   "metadata": {},
   "outputs": [
    {
     "name": "stdout",
     "output_type": "stream",
     "text": [
      "8 8 \n",
      "8 8 \n"
     ]
    }
   ],
   "source": [
    "#SOAL-2\n",
    "#YOUR CODE HERE\n",
    "def Pengurangan(awal, akhir):\n",
    "    for i in range (len(awal)):\n",
    "        for n in range (len(awal)):\n",
    "            print(awal[i][n] - akhir[i][n], end=\" \") \n",
    "        print()\n",
    "\n",
    "Pengurangan(A, B)"
   ]
  },
  {
   "cell_type": "code",
   "execution_count": 91,
   "metadata": {},
   "outputs": [
    {
     "name": "stdout",
     "output_type": "stream",
     "text": [
      "23296 23296 \n",
      "23296 23296 \n"
     ]
    }
   ],
   "source": [
    "#SOAL-3\n",
    "#YOUR CODE HERE\n",
    "\n",
    "def Perkalian(awal, akhir):\n",
    "     matriks_1 = []\n",
    "     for x in range (len(awal)):\n",
    "          matriks_dummy = []\n",
    "          for y in range (len(awal[0])):\n",
    "               total = 0\n",
    "               for z in range(len(awal[0])):\n",
    "                    total = total + awal[x][z] * akhir[z][y]  \n",
    "               matriks_dummy.append(total)\n",
    "          matriks_1.append(matriks_dummy)\n",
    "          \n",
    "     #mengubah matriks yang masih menjadi list ke matriks yang outputnya berupa string\n",
    "     for i in range(len(matriks_1)):\n",
    "          for j in range(len(matriks_1[0])):\n",
    "               print(matriks_1[i][j], end=\" \")\n",
    "          print()\n",
    "\n",
    "Perkalian(A, B)\n",
    "\n",
    "\n",
    "            "
   ]
  },
  {
   "cell_type": "markdown",
   "metadata": {},
   "source": [
    "### Cara Pengumpulan\n",
    "\n",
    "1. Buka *New Terminal*\n",
    "2. Pastikan *path* Terminal adalah folder repositori kalian (NIM-Nama-Prokom).\n",
    "3. Tambahkan file yang akan ditrack dengan `git add <nama file>`. Nama file bisa diubah . (titik)  `git add .`yang artinya semua file dalam folder akan ditrack.\n",
    "4. Lakukan commit perubahan dengan `git commit -m <deskripsi>`.\n",
    "5. Lakukan push dengan `git push -u origin <nama branch>`. Nama branch dapat diketahui dengan `git branch`.\n",
    "6. Pastikan Exercise-02 telah terupload dan dapat diakses di repositori dengan mengaksesnya di browser."
   ]
  }
 ],
 "metadata": {
  "interpreter": {
   "hash": "d3054124312dba3be733dbe3285d55a46c664c1e53e3dcd14fdc327287a3f636"
  },
  "kernelspec": {
   "display_name": "Python 3.9.7 ('base')",
   "language": "python",
   "name": "python3"
  },
  "language_info": {
   "codemirror_mode": {
    "name": "ipython",
    "version": 3
   },
   "file_extension": ".py",
   "mimetype": "text/x-python",
   "name": "python",
   "nbconvert_exporter": "python",
   "pygments_lexer": "ipython3",
   "version": "3.9.7"
  },
  "orig_nbformat": 4
 },
 "nbformat": 4,
 "nbformat_minor": 2
}
